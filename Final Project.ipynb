{
 "cells": [
  {
   "cell_type": "markdown",
   "metadata": {},
   "source": [
    "# Final Project for CMPINF0010\n",
    "\n",
    "## Best Neighborhood in Pittsburgh\n",
    "\n",
    "---\n",
    "#### Introduction\n",
    "\n",
    "Our group was tasked with coming up with a metric consisting of three sub-metrics to objectively pick the best neighborhood in Pittsburgh. We decided our metric to be one based on wealth & poverty. Our three sub-metrics to define \n",
    "\n",
    "- Foreclosures\n",
    "- Pools & Spray Parks\n",
    "- Non-Violent Citations\n",
    "\n",
    "We included foreclosures due to the fact that typically wealthy neighborhoods don't have individuals within it that foreclosure homes or defaulting on mortgages. This is typically seen in areas where income stability is poor and people live paycheck to paycheck. Pools & Spray Parks were included since they represent amenities in neighborhoods. Amenities that are typically expensive and more luxurious to maintain than a simple playground or park. These better represent wealth and value for a neighborhood and shows how much resources that neighborhood is willing to spend on luxuries indicating wealth.\n",
    "\n",
    "---\n",
    "#### The Final Metric\n",
    "\n",
    "##### Foreclosures:\n",
    "\n",
    "\n",
    "##### Pools & Spray Parks:\n",
    "\n",
    "\n",
    "##### Non-Violent Citations:\n",
    "\n",
    "---\n",
    "#### Conclusion:\n",
    "\n"
   ]
  },
  {
   "cell_type": "code",
   "execution_count": null,
   "metadata": {},
   "outputs": [],
   "source": []
  }
 ],
 "metadata": {
  "kernelspec": {
   "display_name": "Python 3",
   "language": "python",
   "name": "python3"
  },
  "language_info": {
   "codemirror_mode": {
    "name": "ipython",
    "version": 3
   },
   "file_extension": ".py",
   "mimetype": "text/x-python",
   "name": "python",
   "nbconvert_exporter": "python",
   "pygments_lexer": "ipython3",
   "version": "3.8.3"
  }
 },
 "nbformat": 4,
 "nbformat_minor": 4
}
