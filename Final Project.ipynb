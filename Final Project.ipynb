{
 "cells": [
  {
   "cell_type": "markdown",
   "metadata": {},
   "source": [
    "# Final Project for CMPINF0010\n",
    "\n",
    "## Best Neighborhood in Pittsburgh\n",
    "\n",
    "---\n",
    "#### Introduction\n",
    "\n",
    "Our group was tasked with coming up with a metric consisting of three sub-metrics to objectively pick the best neighborhood in Pittsburgh. We decided our metric to be one based on wealth & poverty. Our three sub-metrics to define \n",
    "\n",
    "- Foreclosures\n",
    "- Pools & Spray Parks\n",
    "- Non-Violent Citations\n",
    "\n",
    "We included foreclosures due to the fact that typically wealthy neighborhoods don't have individuals within it that foreclosure homes or defaulting on mortgages. This is typically seen in areas where income stability is poor and people live paycheck to paycheck. Pools & Spray Parks were included since they represent amenities in neighborhoods. Amenities that are typically expensive and more luxurious to maintain than a simple playground or park. These better represent wealth and value for a neighborhood and shows how much resources that neighborhood is willing to spend on luxuries indicating wealth.\n",
    "\n",
    "---\n",
    "#### The Final Metric\n",
    "\n",
    "##### Foreclosures:\n",
    "\n",
    "The first metric, foreclosures, is supposed to give an overview of the neighborhoods with the most wealth and stable households. As foreclosures is often linked to poverty and wealth as those with money are more likely to pay off their morgage and payments. Foreclosures also lower the property value of the homes around it, and can invite crime from squatters and such.\n",
    "\n",
    "##### Pools & Spray Parks:\n",
    "\n",
    "This metric is supposed to measure how much resources each neighborhood has avaliable to use on amenities. These pools cost a lot of money to maintain and is a good indicator of wealth within a neighborhood. NOTE: If a neighborhood is not mentioned please assume that the neighborhood has 0 Spray Parks & Pools.\n",
    "\n",
    "##### Non-Violent Citations:\n",
    "\n",
    "This last sub metric is not supposed to measure how violent a specific neighborhood is from each other, but is a metric made to give a look into the expected quaility of life of each neighborhood. With the lower the citiation rate, you can assume that the crime rate would be lower in that area than one with a high citation rate.\n",
    "\n",
    "The neighboorhood with the worst citation rate was South Side Flats; the one with the best was a small neighborhood called Chartiers City.\n",
    "\n",
    "---\n",
    "#### Conclusion:\n",
    "\n",
    "The neighborhood we've found to be the best was (NAME) and the worst was (NAME). We came to this conclusion from how we anaylzed the data and how they related to each other. Next, we'll be displaying how we reached this conclusion by showing our code."
   ]
  },
  {
   "cell_type": "markdown",
   "metadata": {},
   "source": [
    "### CODE\n",
    "\n",
    "Following Code is meant to import libraries and read csv's."
   ]
  },
  {
   "cell_type": "code",
   "execution_count": 2,
   "metadata": {},
   "outputs": [],
   "source": [
    "#import statements\n",
    "import pandas as pd \n",
    "%matplotlib inline\n",
    "pool_data = pd.read_csv(\"Pitt Pools.csv\")\n",
    "foreclosures_data = pd.read_csv(\"Foreclosures.csv\")\n",
    "crime_data = pd.read_csv(\"Traffic Citations.csv\")"
   ]
  },
  {
   "cell_type": "code",
   "execution_count": null,
   "metadata": {},
   "outputs": [],
   "source": []
  }
 ],
 "metadata": {
  "kernelspec": {
   "display_name": "Python 3",
   "language": "python",
   "name": "python3"
  },
  "language_info": {
   "codemirror_mode": {
    "name": "ipython",
    "version": 3
   },
   "file_extension": ".py",
   "mimetype": "text/x-python",
   "name": "python",
   "nbconvert_exporter": "python",
   "pygments_lexer": "ipython3",
   "version": "3.8.3"
  }
 },
 "nbformat": 4,
 "nbformat_minor": 4
}
